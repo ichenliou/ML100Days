{
 "cells": [
  {
   "cell_type": "markdown",
   "metadata": {},
   "source": [
    "## [作業目標]\n",
    "了解機器學習適合應用的領域與範疇。"
   ]
  },
  {
   "cell_type": "markdown",
   "metadata": {},
   "source": [
    "## [作業重點]\n",
    "透過瞭解機器學習的運作方式，找出非常適用機器學習應用的領域及其原因"
   ]
  },
  {
   "cell_type": "markdown",
   "metadata": {},
   "source": [
    "## 作業\n",
    "請找出一個你認為機器學習可以發光發熱的領域並闡述原因? "
   ]
  },
  {
   "cell_type": "code",
   "execution_count": null,
   "metadata": {},
   "outputs": [],
   "source": [
    "...\n",
    "我個人覺得自動駕駛應是可以發光發熱的領域，自動駕駛應是協助駕駛人的角色，\n",
    "也就是協助駕駛人注意路況，包括是否超速、未保持車距、側邊或後面有無來車接近、\n",
    "紅綠燈、行人及行車路線規劃等。等到技術更成熟時，包含5G普及等，此時可能車與車間自動駕駛系統\n",
    "可以互相通訊且快速辨別，車內自駕也可和雲端伺服器通訊，將資料上傳至伺服器收集分析，\n",
    "再配合即時路況，接受伺服器最佳化的調度建議，達到行車安全又迅速的目的。\n",
    "..."
   ]
  }
 ],
 "metadata": {
  "kernelspec": {
   "display_name": "Python 3",
   "language": "python",
   "name": "python3"
  },
  "language_info": {
   "codemirror_mode": {
    "name": "ipython",
    "version": 3
   },
   "file_extension": ".py",
   "mimetype": "text/x-python",
   "name": "python",
   "nbconvert_exporter": "python",
   "pygments_lexer": "ipython3",
   "version": "3.7.6"
  }
 },
 "nbformat": 4,
 "nbformat_minor": 2
}
